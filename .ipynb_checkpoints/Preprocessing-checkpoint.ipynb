{
 "cells": [
  {
   "cell_type": "markdown",
   "id": "9372acac",
   "metadata": {},
   "source": [
    "Install dependancies "
   ]
  },
  {
   "cell_type": "code",
   "execution_count": null,
   "id": "637a3730",
   "metadata": {},
   "outputs": [],
   "source": [
    "!pip install transformers\n",
    "!pip install transformers[torch]\n",
    "!pip install accelerate -U\n"
   ]
  },
  {
   "cell_type": "code",
   "execution_count": null,
   "id": "8c1af5ab",
   "metadata": {},
   "outputs": [],
   "source": [
    "import torch\n",
    "torch.cuda.empty_cache()"
   ]
  },
  {
   "cell_type": "code",
   "execution_count": null,
   "id": "05223d08",
   "metadata": {},
   "outputs": [],
   "source": [
    "torch.cuda.is_available()"
   ]
  },
  {
   "cell_type": "markdown",
   "id": "f8304690",
   "metadata": {},
   "source": [
    "## Imports"
   ]
  },
  {
   "cell_type": "code",
   "execution_count": null,
   "id": "7cba3c8b",
   "metadata": {},
   "outputs": [],
   "source": [
    "# Import necessary libraries\n",
    "from transformers import AutoTokenizer, AutoModelForSequenceClassification\n",
    "from transformers import EarlyStoppingCallback, IntervalStrategy\n",
    "from torch.utils.data import Dataset, DataLoader\n",
    "import torch\n",
    "from sklearn.model_selection import train_test_split\n",
    "import pandas as pd\n",
    "import numpy as np\n",
    "from transformers import Trainer, TrainingArguments\n",
    "from sklearn.preprocessing import LabelEncoder\n",
    "from sklearn.metrics import classification_report\n"
   ]
  },
  {
   "cell_type": "markdown",
   "id": "c49b794b",
   "metadata": {},
   "source": [
    "## Set up Data Set"
   ]
  },
  {
   "cell_type": "code",
   "execution_count": null,
   "id": "241184c2",
   "metadata": {},
   "outputs": [],
   "source": [
    "# Load and preprocess the training data\n",
    "train_df = pd.read_csv('filtered_data_colab_clean.csv')\n",
    "\n",
    "# Ensure that the text data is string\n",
    "train_df['Description'] = train_df['Description'].astype(str)\n",
    "\n",
    "train_texts = train_df['Description'].tolist()\n",
    "train_labels = train_df['Policy_type'].tolist()\n",
    "\n",
    "# Use the pre-trained tokenizer\n",
    "tokenizer = AutoTokenizer.from_pretrained('mukund/privbert')\n",
    "\n",
    "# Tokenize the texts\n",
    "train_encodings = tokenizer(train_texts, truncation=True, padding=True)\n",
    "\n",
    "# Define a PyTorch dataset\n",
    "class TosdrDataset(Dataset):\n",
    "    def __init__(self, encodings, labels):\n",
    "        self.encodings = encodings\n",
    "        self.labels = labels\n",
    "\n",
    "    def __getitem__(self, idx):\n",
    "        item = {key: torch.tensor(val[idx]) for key, val in self.encodings.items()}\n",
    "        item['labels'] = torch.tensor(self.labels[idx])\n",
    "        return item\n",
    "\n",
    "    def __len__(self):\n",
    "        return len(self.labels)\n",
    "\n",
    "# Create the dataset\n",
    "train_dataset = TosdrDataset(train_encodings, train_labels)\n"
   ]
  },
  {
   "cell_type": "code",
   "execution_count": null,
   "id": "ee392253",
   "metadata": {},
   "outputs": [],
   "source": [
    "#train_df, val_df = torch.utils.data.random_split(train_dataset, [0.8, 0.2])\n"
   ]
  },
  {
   "cell_type": "code",
   "execution_count": null,
   "id": "c88f1dca",
   "metadata": {},
   "outputs": [],
   "source": [
    "print(\"Length of Data Set\", len(train_dataset))\n",
    "\n",
    "print(\"Unique Classes (number of unique cases)\", len(train_labels))\n"
   ]
  },
  {
   "cell_type": "code",
   "execution_count": null,
   "id": "4a16dc58",
   "metadata": {},
   "outputs": [],
   "source": [
    "train_size = int(0.8 * len(train_dataset))\n",
    "test_size = len(train_dataset) - train_size\n",
    "train_set, val_set = torch.utils.data.random_split(train_dataset, [train_size,test_size])"
   ]
  },
  {
   "cell_type": "markdown",
   "id": "a8123a9a",
   "metadata": {},
   "source": [
    "## Model set up"
   ]
  },
  {
   "cell_type": "code",
   "execution_count": null,
   "id": "b348fd4a",
   "metadata": {},
   "outputs": [],
   "source": [
    "from sklearn.metrics import precision_recall_fscore_support\n",
    "\n",
    "def compute_metrics_mod(pred):\n",
    "    labels = pred.label_ids\n",
    "    preds = pred.predictions.argmax(-1)\n",
    "    precision, recall, f1, _ = precision_recall_fscore_support(labels, preds)\n",
    "    acc = accuracy_score(labels, preds)\n",
    "    return {\n",
    "        'accuracy': acc,\n",
    "        'f1': f1,\n",
    "        'precision': precision,\n",
    "        'recall': recall\n",
    "    }"
   ]
  },
  {
   "cell_type": "code",
   "execution_count": null,
   "id": "35ec450d",
   "metadata": {},
   "outputs": [],
   "source": [
    "# Initialize the pre-trained model, set num_labels to the number of unique cases\n",
    "model = AutoModelForSequenceClassification.from_pretrained('mukund/privbert', num_labels=5)\n",
    "\n",
    "# Define training arguments\n",
    "training_args = TrainingArguments(\n",
    "    output_dir='./results',\n",
    "    #auto_find_batch_size = True,\n",
    "    per_device_train_batch_size=16,\n",
    "    per_device_eval_batch_size=64,\n",
    "    warmup_steps=500,\n",
    "    weight_decay=0.01,\n",
    "    #logging_dir='./logs',\n",
    "    logging_steps=50,\n",
    "\n",
    "    evaluation_strategy = IntervalStrategy.STEPS, # \"steps\"\n",
    "    eval_steps = 5, # Evaluation and Save happens every 50 steps\n",
    "    save_total_limit = 1, # Only last 5 models are saved. Older ones are deleted.\n",
    "    learning_rate=2e-5,\n",
    "\n",
    "    num_train_epochs=50,\n",
    "    push_to_hub=False,\n",
    "    metric_for_best_model = 'f1',\n",
    "    load_best_model_at_end=True,\n",
    "    \n",
    ")\n",
    "\n",
    "# Define a trainer\n",
    "trainer = Trainer(\n",
    "    model=model,\n",
    "    args=training_args,\n",
    "    train_dataset=train_set,\n",
    "    eval_dataset = val_set,\n",
    "    compute_metrics = compute_metrics_mod,\n",
    ")\n",
    "\n"
   ]
  },
  {
   "cell_type": "code",
   "execution_count": null,
   "id": "5942fa74",
   "metadata": {},
   "outputs": [],
   "source": [
    "torch.cuda.empty_cache()\n",
    "torch.cuda.memory_allocated()"
   ]
  },
  {
   "cell_type": "code",
   "execution_count": null,
   "id": "04f06413",
   "metadata": {},
   "outputs": [],
   "source": [
    "torch.cuda.reset_max_memory_allocated(device=None)"
   ]
  },
  {
   "cell_type": "code",
   "execution_count": null,
   "id": "ca8ba5fe",
   "metadata": {},
   "outputs": [],
   "source": [
    "# Train the model\n",
    "train_result = trainer.train()\n",
    "\n",
    "# Load and preprocess the test data\n"
   ]
  },
  {
   "cell_type": "code",
   "execution_count": null,
   "id": "335e3965",
   "metadata": {},
   "outputs": [],
   "source": []
  },
  {
   "cell_type": "code",
   "execution_count": null,
   "id": "c50a3562",
   "metadata": {},
   "outputs": [],
   "source": []
  },
  {
   "cell_type": "code",
   "execution_count": null,
   "id": "bfdf1c58",
   "metadata": {},
   "outputs": [],
   "source": []
  }
 ],
 "metadata": {
  "kernelspec": {
   "display_name": "Python 3 (ipykernel)",
   "language": "python",
   "name": "python3"
  },
  "language_info": {
   "codemirror_mode": {
    "name": "ipython",
    "version": 3
   },
   "file_extension": ".py",
   "mimetype": "text/x-python",
   "name": "python",
   "nbconvert_exporter": "python",
   "pygments_lexer": "ipython3",
   "version": "3.10.9"
  }
 },
 "nbformat": 4,
 "nbformat_minor": 5
}
